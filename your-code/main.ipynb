{
 "cells": [
  {
   "cell_type": "markdown",
   "metadata": {},
   "source": [
    "# Intrduction to NumPy\n",
    "\n",
    "\n",
    "#### 1. Import NumPy under the name np."
   ]
  },
  {
   "cell_type": "code",
   "execution_count": 1,
   "metadata": {},
   "outputs": [],
   "source": [
    "import numpy as np"
   ]
  },
  {
   "cell_type": "markdown",
   "metadata": {},
   "source": [
    "#### 2. Print your NumPy version."
   ]
  },
  {
   "cell_type": "code",
   "execution_count": 2,
   "metadata": {},
   "outputs": [
    {
     "name": "stdout",
     "output_type": "stream",
     "text": [
      "1.18.1\n"
     ]
    }
   ],
   "source": [
    "print(np.version.version)"
   ]
  },
  {
   "cell_type": "markdown",
   "metadata": {},
   "source": [
    "#### 3. Generate a 2x3x5 3-dimensional array with random values. Assign the array to variable *a*.\n",
    "**Challenge**: there are at least three easy ways that use numpy to generate random arrays. How many ways can you find?"
   ]
  },
  {
   "cell_type": "code",
   "execution_count": 3,
   "metadata": {},
   "outputs": [
    {
     "data": {
      "text/plain": [
       "array([[[0.75329121, 0.42980259, 0.93093635, 0.95595571, 0.71042439],\n",
       "        [0.59638091, 0.25189133, 0.55512707, 0.20082569, 0.81966581],\n",
       "        [0.36312671, 0.57559127, 0.99989469, 0.53115821, 0.09703684]],\n",
       "\n",
       "       [[0.15728171, 0.92137321, 0.24391808, 0.11461558, 0.56532416],\n",
       "        [0.97705318, 0.08742166, 0.89328486, 0.30799906, 0.75879689],\n",
       "        [0.88475573, 0.59787881, 0.24841687, 0.05919727, 0.79807414]]])"
      ]
     },
     "execution_count": 3,
     "metadata": {},
     "output_type": "execute_result"
    }
   ],
   "source": [
    "a = np.random.random((2,3,5))\n",
    "a"
   ]
  },
  {
   "cell_type": "code",
   "execution_count": 4,
   "metadata": {},
   "outputs": [
    {
     "data": {
      "text/plain": [
       "array([[[0.79155378, 0.3660509 , 0.07718439, 0.47956926, 0.50634182],\n",
       "        [0.90804618, 0.48479904, 0.40978677, 0.78165872, 0.11643856],\n",
       "        [0.45344998, 0.58075583, 0.88933874, 0.84187521, 0.76310284]],\n",
       "\n",
       "       [[0.85695298, 0.94301408, 0.20959469, 0.7900985 , 0.43167757],\n",
       "        [0.70835839, 0.92574616, 0.93317522, 0.86433147, 0.07420934],\n",
       "        [0.85644582, 0.18865236, 0.65371533, 0.36725057, 0.60249802]]])"
      ]
     },
     "execution_count": 4,
     "metadata": {},
     "output_type": "execute_result"
    }
   ],
   "source": [
    "a = np.random.rand(2,3,5)\n",
    "a"
   ]
  },
  {
   "cell_type": "code",
   "execution_count": 5,
   "metadata": {},
   "outputs": [
    {
     "data": {
      "text/plain": [
       "array([[[0.79155378, 0.3660509 , 0.07718439, 0.47956926, 0.50634182],\n",
       "        [0.90804618, 0.48479904, 0.40978677, 0.78165872, 0.11643856],\n",
       "        [0.45344998, 0.58075583, 0.88933874, 0.84187521, 0.76310284]],\n",
       "\n",
       "       [[0.85695298, 0.94301408, 0.20959469, 0.7900985 , 0.43167757],\n",
       "        [0.70835839, 0.92574616, 0.93317522, 0.86433147, 0.07420934],\n",
       "        [0.85644582, 0.18865236, 0.65371533, 0.36725057, 0.60249802]]])"
      ]
     },
     "execution_count": 5,
     "metadata": {},
     "output_type": "execute_result"
    }
   ],
   "source": [
    "a = np.empty((2,3,5))\n",
    "a"
   ]
  },
  {
   "cell_type": "markdown",
   "metadata": {},
   "source": [
    "#### 4. Print *a*.\n"
   ]
  },
  {
   "cell_type": "code",
   "execution_count": 6,
   "metadata": {},
   "outputs": [
    {
     "data": {
      "text/plain": [
       "array([[[0.79155378, 0.3660509 , 0.07718439, 0.47956926, 0.50634182],\n",
       "        [0.90804618, 0.48479904, 0.40978677, 0.78165872, 0.11643856],\n",
       "        [0.45344998, 0.58075583, 0.88933874, 0.84187521, 0.76310284]],\n",
       "\n",
       "       [[0.85695298, 0.94301408, 0.20959469, 0.7900985 , 0.43167757],\n",
       "        [0.70835839, 0.92574616, 0.93317522, 0.86433147, 0.07420934],\n",
       "        [0.85644582, 0.18865236, 0.65371533, 0.36725057, 0.60249802]]])"
      ]
     },
     "execution_count": 6,
     "metadata": {},
     "output_type": "execute_result"
    }
   ],
   "source": [
    "a"
   ]
  },
  {
   "cell_type": "markdown",
   "metadata": {},
   "source": [
    "#### 5. Create a 5x2x3 3-dimensional array with all values equaling 1. Assign the array to variable *b*."
   ]
  },
  {
   "cell_type": "code",
   "execution_count": 7,
   "metadata": {},
   "outputs": [
    {
     "data": {
      "text/plain": [
       "array([[[1., 1., 1.],\n",
       "        [1., 1., 1.]],\n",
       "\n",
       "       [[1., 1., 1.],\n",
       "        [1., 1., 1.]],\n",
       "\n",
       "       [[1., 1., 1.],\n",
       "        [1., 1., 1.]],\n",
       "\n",
       "       [[1., 1., 1.],\n",
       "        [1., 1., 1.]],\n",
       "\n",
       "       [[1., 1., 1.],\n",
       "        [1., 1., 1.]]])"
      ]
     },
     "execution_count": 7,
     "metadata": {},
     "output_type": "execute_result"
    }
   ],
   "source": [
    "b = np.ones((5,2,3))\n",
    "b"
   ]
  },
  {
   "cell_type": "markdown",
   "metadata": {},
   "source": [
    "#### 6. Print *b*.\n"
   ]
  },
  {
   "cell_type": "code",
   "execution_count": 8,
   "metadata": {},
   "outputs": [
    {
     "data": {
      "text/plain": [
       "array([[[1., 1., 1.],\n",
       "        [1., 1., 1.]],\n",
       "\n",
       "       [[1., 1., 1.],\n",
       "        [1., 1., 1.]],\n",
       "\n",
       "       [[1., 1., 1.],\n",
       "        [1., 1., 1.]],\n",
       "\n",
       "       [[1., 1., 1.],\n",
       "        [1., 1., 1.]],\n",
       "\n",
       "       [[1., 1., 1.],\n",
       "        [1., 1., 1.]]])"
      ]
     },
     "execution_count": 8,
     "metadata": {},
     "output_type": "execute_result"
    }
   ],
   "source": [
    "b"
   ]
  },
  {
   "cell_type": "markdown",
   "metadata": {},
   "source": [
    "#### 7. Do *a* and *b* have the same size? How do you prove that in Python code?"
   ]
  },
  {
   "cell_type": "code",
   "execution_count": null,
   "metadata": {},
   "outputs": [],
   "source": [
    "\"\"\"\n",
    "#wrong i think... the answer below its correct(i think)\n",
    "print(a.size)\n",
    "print(b.size)\n",
    "\n",
    "size_comp = a.size - b.size\n",
    "print(size_comp)\n",
    "\"\"\""
   ]
  },
  {
   "cell_type": "code",
   "execution_count": null,
   "metadata": {},
   "outputs": [],
   "source": [
    "np.subtract(a,b)\n",
    "np.multiply(a,b)\n",
    "\n",
    "#i dont think its possible do this king of math with shapes per say, they have different shapes and sizes"
   ]
  },
  {
   "cell_type": "markdown",
   "metadata": {},
   "source": [
    "#### 8. Are you able to add *a* and *b*? Why or why not?\n"
   ]
  },
  {
   "cell_type": "code",
   "execution_count": null,
   "metadata": {},
   "outputs": [],
   "source": [
    "np.add(a,b)\n",
    "\n",
    "#add_both = np.concatenate((a,b))\n",
    "#add_both\n",
    "\n",
    "#np.stack((a,b),axis=0)\n",
    "\n",
    "# i think to combine (or do math in general) to arrays, they should have the same shape and/or size"
   ]
  },
  {
   "cell_type": "markdown",
   "metadata": {},
   "source": [
    "#### 9. Transpose *b* so that it has the same structure of *a* (i.e. become a 2x3x5 array). Assign the transposed array to variable *c*."
   ]
  },
  {
   "cell_type": "code",
   "execution_count": 16,
   "metadata": {},
   "outputs": [
    {
     "name": "stdout",
     "output_type": "stream",
     "text": [
      "30 (2, 3, 5)\n",
      "30 (5, 2, 3)\n",
      "\n",
      "\n",
      "[[[1. 1. 1. 1. 1.]\n",
      "  [1. 1. 1. 1. 1.]\n",
      "  [1. 1. 1. 1. 1.]]\n",
      "\n",
      " [[1. 1. 1. 1. 1.]\n",
      "  [1. 1. 1. 1. 1.]\n",
      "  [1. 1. 1. 1. 1.]]]\n",
      "(2, 3, 5)\n",
      "(2, 3, 5)\n"
     ]
    }
   ],
   "source": [
    "print(np.size(a), np.shape(a))\n",
    "print(np.size(b), np.shape(b))\n",
    "print(\"\\n\")\n",
    "\n",
    "c = np.reshape(b,(2,3,5))\n",
    "print(c)\n",
    "print(np.shape(a))\n",
    "print(np.shape(c))"
   ]
  },
  {
   "cell_type": "markdown",
   "metadata": {},
   "source": [
    "#### 10. Try to add *a* and *c*. Now it should work. Assign the sum to variable *d*. But why does it work now?"
   ]
  },
  {
   "cell_type": "code",
   "execution_count": 25,
   "metadata": {},
   "outputs": [
    {
     "name": "stdout",
     "output_type": "stream",
     "text": [
      "[[[1.79155378 1.3660509  1.07718439 1.47956926 1.50634182]\n",
      "  [1.90804618 1.48479904 1.40978677 1.78165872 1.11643856]\n",
      "  [1.45344998 1.58075583 1.88933874 1.84187521 1.76310284]]\n",
      "\n",
      " [[1.85695298 1.94301408 1.20959469 1.7900985  1.43167757]\n",
      "  [1.70835839 1.92574616 1.93317522 1.86433147 1.07420934]\n",
      "  [1.85644582 1.18865236 1.65371533 1.36725057 1.60249802]]]\n"
     ]
    }
   ],
   "source": [
    "d = np.add(a,c)\n",
    "print(d)\n",
    "\n",
    "# because NOW they have the same goddamm shape and size lol"
   ]
  },
  {
   "cell_type": "markdown",
   "metadata": {},
   "source": [
    "#### 11. Print *a* and *d*. Notice the difference and relation of the two array in terms of the values? Explain."
   ]
  },
  {
   "cell_type": "code",
   "execution_count": 31,
   "metadata": {},
   "outputs": [
    {
     "name": "stdout",
     "output_type": "stream",
     "text": [
      "[[[0.79155378 0.3660509  0.07718439 0.47956926 0.50634182]\n",
      "  [0.90804618 0.48479904 0.40978677 0.78165872 0.11643856]\n",
      "  [0.45344998 0.58075583 0.88933874 0.84187521 0.76310284]]\n",
      "\n",
      " [[0.85695298 0.94301408 0.20959469 0.7900985  0.43167757]\n",
      "  [0.70835839 0.92574616 0.93317522 0.86433147 0.07420934]\n",
      "  [0.85644582 0.18865236 0.65371533 0.36725057 0.60249802]]]\n",
      "\n",
      "\n",
      "[[[1.79155378 1.3660509  1.07718439 1.47956926 1.50634182]\n",
      "  [1.90804618 1.48479904 1.40978677 1.78165872 1.11643856]\n",
      "  [1.45344998 1.58075583 1.88933874 1.84187521 1.76310284]]\n",
      "\n",
      " [[1.85695298 1.94301408 1.20959469 1.7900985  1.43167757]\n",
      "  [1.70835839 1.92574616 1.93317522 1.86433147 1.07420934]\n",
      "  [1.85644582 1.18865236 1.65371533 1.36725057 1.60249802]]]\n",
      "\n",
      "\n",
      "<class 'numpy.ndarray'>\n",
      "(2, 3, 5)\n",
      "0.7915537813334514\n",
      "<class 'numpy.float64'>\n",
      "\n",
      "\n",
      "<class 'numpy.ndarray'>\n",
      "(2, 3, 5)\n",
      "1.7915537813334514\n",
      "<class 'numpy.float64'>\n"
     ]
    }
   ],
   "source": [
    "print(a)\n",
    "print(\"\\n\")\n",
    "print(d)\n",
    "print(\"\\n\")\n",
    "\n",
    "\n",
    "print(type(a))\n",
    "print(np.shape(a))\n",
    "print(a[0,0,0])\n",
    "print(type(a[0,0,0]))\n",
    "print(\"\\n\")\n",
    "print(type(d))\n",
    "print(np.shape(d))\n",
    "print(d[0,0,0])\n",
    "print(type(d[0,0,0]))\n",
    "\n",
    "\n",
    "# the array C as a np.ones(3-dimensional array), and we add that(sum both basically) to array A(np.random.random 3-dim array)\n",
    "# that means that all values on array A get summed by 1"
   ]
  },
  {
   "cell_type": "markdown",
   "metadata": {},
   "source": [
    "#### 12. Multiply *a* and *c*. Assign the result to *e*."
   ]
  },
  {
   "cell_type": "code",
   "execution_count": 32,
   "metadata": {},
   "outputs": [
    {
     "data": {
      "text/plain": [
       "array([[[0.79155378, 0.3660509 , 0.07718439, 0.47956926, 0.50634182],\n",
       "        [0.90804618, 0.48479904, 0.40978677, 0.78165872, 0.11643856],\n",
       "        [0.45344998, 0.58075583, 0.88933874, 0.84187521, 0.76310284]],\n",
       "\n",
       "       [[0.85695298, 0.94301408, 0.20959469, 0.7900985 , 0.43167757],\n",
       "        [0.70835839, 0.92574616, 0.93317522, 0.86433147, 0.07420934],\n",
       "        [0.85644582, 0.18865236, 0.65371533, 0.36725057, 0.60249802]]])"
      ]
     },
     "execution_count": 32,
     "metadata": {},
     "output_type": "execute_result"
    }
   ],
   "source": [
    "e = np.multiply(a,c)\n",
    "e"
   ]
  },
  {
   "cell_type": "markdown",
   "metadata": {},
   "source": [
    "#### 13. Does *e* equal to *a*? Why or why not?\n"
   ]
  },
  {
   "cell_type": "code",
   "execution_count": 39,
   "metadata": {},
   "outputs": [
    {
     "name": "stdout",
     "output_type": "stream",
     "text": [
      "(2, 3, 5)\n",
      "[[[0.79155378 0.3660509  0.07718439 0.47956926 0.50634182]\n",
      "  [0.90804618 0.48479904 0.40978677 0.78165872 0.11643856]\n",
      "  [0.45344998 0.58075583 0.88933874 0.84187521 0.76310284]]\n",
      "\n",
      " [[0.85695298 0.94301408 0.20959469 0.7900985  0.43167757]\n",
      "  [0.70835839 0.92574616 0.93317522 0.86433147 0.07420934]\n",
      "  [0.85644582 0.18865236 0.65371533 0.36725057 0.60249802]]]\n",
      "\n",
      "\n",
      "(2, 3, 5)\n",
      "[[[0.79155378 0.3660509  0.07718439 0.47956926 0.50634182]\n",
      "  [0.90804618 0.48479904 0.40978677 0.78165872 0.11643856]\n",
      "  [0.45344998 0.58075583 0.88933874 0.84187521 0.76310284]]\n",
      "\n",
      " [[0.85695298 0.94301408 0.20959469 0.7900985  0.43167757]\n",
      "  [0.70835839 0.92574616 0.93317522 0.86433147 0.07420934]\n",
      "  [0.85644582 0.18865236 0.65371533 0.36725057 0.60249802]]]\n"
     ]
    }
   ],
   "source": [
    "e == a\n",
    "\n",
    "print(np.shape(a))\n",
    "print(a)\n",
    "print(\"\\n\")\n",
    "print(np.shape(e))\n",
    "print(e)\n",
    "\n",
    "\n",
    "#we got E by multiplying with the array A(random) and array C(with 1's)\n",
    "# since 1 is a neutral element of multiplication, its like we didnt really multiply anything, so E==A"
   ]
  },
  {
   "cell_type": "markdown",
   "metadata": {},
   "source": [
    "#### 14. Identify the max, min, and mean values in *d*. Assign those values to variables *d_max*, *d_min* and *d_mean*."
   ]
  },
  {
   "cell_type": "code",
   "execution_count": 43,
   "metadata": {},
   "outputs": [
    {
     "name": "stdout",
     "output_type": "stream",
     "text": [
      "1.9430140821051154\n",
      "1.0742093366441676\n",
      "1.5951890836399734\n"
     ]
    }
   ],
   "source": [
    "d_max = np.max(d)\n",
    "d_min = np.min(d)\n",
    "d_mean = np.mean(d)\n",
    "\n",
    "print(d_max)\n",
    "print(d_min)\n",
    "print(d_mean)"
   ]
  },
  {
   "cell_type": "markdown",
   "metadata": {},
   "source": [
    "#### 15. Now we want to label the values in *d*. First create an empty array *f* with the same shape (i.e. 2x3x5) as *d* using `np.empty`.\n"
   ]
  },
  {
   "cell_type": "code",
   "execution_count": 48,
   "metadata": {},
   "outputs": [
    {
     "data": {
      "text/plain": [
       "array([[[0.79155378, 0.3660509 , 0.07718439, 0.47956926, 0.50634182],\n",
       "        [0.90804618, 0.48479904, 0.40978677, 0.78165872, 0.11643856],\n",
       "        [0.45344998, 0.58075583, 0.88933874, 0.84187521, 0.76310284]],\n",
       "\n",
       "       [[0.85695298, 0.94301408, 0.20959469, 0.7900985 , 0.43167757],\n",
       "        [0.70835839, 0.92574616, 0.93317522, 0.86433147, 0.07420934],\n",
       "        [0.85644582, 0.18865236, 0.65371533, 0.36725057, 0.60249802]]])"
      ]
     },
     "execution_count": 48,
     "metadata": {},
     "output_type": "execute_result"
    }
   ],
   "source": [
    "f = np.empty((2,3,5))\n",
    "f"
   ]
  },
  {
   "cell_type": "markdown",
   "metadata": {},
   "source": [
    "#### 16. Populate the values in *f*. \n",
    "\n",
    "For each value in *d*, if it's larger than *d_min* but smaller than *d_mean*, assign 25 to the corresponding value in *f*. If a value in *d* is larger than *d_mean* but smaller than *d_max*, assign 75 to the corresponding value in *f*. If a value equals to *d_mean*, assign 50 to the corresponding value in *f*. Assign 0 to the corresponding value(s) in *f* for *d_min* in *d*. Assign 100 to the corresponding value(s) in *f* for *d_max* in *d*. In the end, f should have only the following values: 0, 25, 50, 75, and 100.\n",
    "\n",
    "**Note**: you don't have to use Numpy in this question."
   ]
  },
  {
   "cell_type": "code",
   "execution_count": 57,
   "metadata": {},
   "outputs": [
    {
     "name": "stdout",
     "output_type": "stream",
     "text": [
      "1.9430140821051154\n",
      "1.0742093366441676\n",
      "1.5951890836399734\n",
      "\n",
      "\n",
      "[[[1.79155378 1.3660509  1.07718439 1.47956926 1.50634182]\n",
      "  [1.90804618 1.48479904 1.40978677 1.78165872 1.11643856]\n",
      "  [1.45344998 1.58075583 1.88933874 1.84187521 1.76310284]]\n",
      "\n",
      " [[1.85695298 1.94301408 1.20959469 1.7900985  1.43167757]\n",
      "  [1.70835839 1.92574616 1.93317522 1.86433147 1.07420934]\n",
      "  [1.85644582 1.18865236 1.65371533 1.36725057 1.60249802]]]\n",
      "\n",
      "\n",
      "[[[ 75.  25.  25.  25.  25.]\n",
      "  [ 75.  25.  25.  75.  25.]\n",
      "  [ 25.  25.  75.  75.  75.]]\n",
      "\n",
      " [[ 75. 100.  25.  75.  25.]\n",
      "  [ 75.  75.  75.  75.   0.]\n",
      "  [ 75.  25.  75.  25.  75.]]]\n"
     ]
    }
   ],
   "source": [
    "f = np.copy(d)\n",
    "f[(f > d_min) & (f < d_mean)] = 25\n",
    "f[(f > d_mean) & (f < d_max)] = 75\n",
    "f[(f == d_mean)] = 50\n",
    "f[(f == d_min)] = 0\n",
    "f[(f == d_max)] = 100\n",
    "\n",
    "print(d_max)\n",
    "print(d_min)\n",
    "print(d_mean)\n",
    "print(\"\\n\")\n",
    "\n",
    "print(d)\n",
    "print(\"\\n\")\n",
    "print(f)\n",
    "\n"
   ]
  },
  {
   "cell_type": "markdown",
   "metadata": {},
   "source": [
    "#### 17. Print *d* and *f*. Do you have your expected *f*?\n",
    "For instance, if your *d* is:\n",
    "```python\n",
    "[[[1.85836099, 1.67064465, 1.62576044, 1.40243961, 1.88454931],\n",
    "[1.75354326, 1.69403643, 1.36729252, 1.61415071, 1.12104981],\n",
    "[1.72201435, 1.1862918 , 1.87078449, 1.7726778 , 1.88180042]],\n",
    "[[1.44747908, 1.31673383, 1.02000951, 1.52218947, 1.97066381],\n",
    "[1.79129243, 1.74983003, 1.96028037, 1.85166831, 1.65450881],\n",
    "[1.18068344, 1.9587381 , 1.00656599, 1.93402165, 1.73514584]]]\n",
    "```\n",
    "Your *f* should be:\n",
    "```python\n",
    "[[[ 75.,  75.,  75.,  25.,  75.],\n",
    "[ 75.,  75.,  25.,  25.,  25.],\n",
    "[ 75.,  25.,  75.,  75.,  75.]],\n",
    "[[ 25.,  25.,  25.,  25., 100.],\n",
    "[ 75.,  75.,  75.,  75.,  75.],\n",
    "[ 25.,  75.,   0.,  75.,  75.]]]\n",
    "```"
   ]
  },
  {
   "cell_type": "code",
   "execution_count": 58,
   "metadata": {},
   "outputs": [],
   "source": [
    "# in the exercise above"
   ]
  },
  {
   "cell_type": "markdown",
   "metadata": {},
   "source": [
    "#### 18. Bonus question: instead of using numbers (i.e. 0, 25, 50, 75, and 100), use string values  (\"A\", \"B\", \"C\", \"D\", and \"E\") to label the array elements. For the example above, the expected result is:\n",
    "\n",
    "```python\n",
    "[[[ 'D',  'D',  'D',  'B',  'D'],\n",
    "[ 'D',  'D',  'B',  'B',  'B'],\n",
    "[ 'D',  'B',  'D',  'D',  'D']],\n",
    "[[ 'B',  'B',  'B',  'B',  'E'],\n",
    "[ 'D',  'D',  'D',  'D',  'D'],\n",
    "[ 'B',  'D',   'A',  'D', 'D']]]\n",
    "```\n",
    "**Note**: you don't have to use Numpy in this question."
   ]
  },
  {
   "cell_type": "code",
   "execution_count": 71,
   "metadata": {},
   "outputs": [
    {
     "name": "stdout",
     "output_type": "stream",
     "text": [
      "[[['D' 'B' 'B' 'B' 'B']\n",
      "  ['D' 'B' 'B' 'D' 'B']\n",
      "  ['B' 'B' 'D' 'D' 'D']]\n",
      "\n",
      " [['D' 'E' 'B' 'D' 'B']\n",
      "  ['D' 'D' 'D' 'D' 'A']\n",
      "  ['D' 'B' 'D' 'B' 'D']]]\n"
     ]
    }
   ],
   "source": [
    "#np.where(condition[, x, y]). Return elements chosen from x or y depending on condition\n",
    "# didnt understand this method very well, i ask for help \n",
    "\n",
    "l = np.where(d == d_min, \"A\", d)\n",
    "l = np.where((d > d_min) & (d < d_mean), \"B\", l)\n",
    "l = np.where(d == d_mean, \"C\", l)\n",
    "l = np.where((d > d_mean) & (d < d_max), \"D\", l)\n",
    "l = np.where(d == d_max, \"E\", l)\n",
    "\n",
    "print(l)"
   ]
  },
  {
   "cell_type": "code",
   "execution_count": null,
   "metadata": {},
   "outputs": [],
   "source": []
  }
 ],
 "metadata": {
  "kernelspec": {
   "display_name": "Python 3",
   "language": "python",
   "name": "python3"
  },
  "language_info": {
   "codemirror_mode": {
    "name": "ipython",
    "version": 3
   },
   "file_extension": ".py",
   "mimetype": "text/x-python",
   "name": "python",
   "nbconvert_exporter": "python",
   "pygments_lexer": "ipython3",
   "version": "3.7.6"
  }
 },
 "nbformat": 4,
 "nbformat_minor": 2
}

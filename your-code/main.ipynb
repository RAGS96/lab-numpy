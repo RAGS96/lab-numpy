{
 "cells": [
  {
   "cell_type": "markdown",
   "metadata": {},
   "source": [
    "# Intrduction to NumPy\n",
    "\n",
    "\n",
    "#### 1. Import NumPy under the name np."
   ]
  },
  {
   "cell_type": "code",
   "execution_count": 33,
   "metadata": {},
   "outputs": [],
   "source": [
    "import numpy as np"
   ]
  },
  {
   "cell_type": "markdown",
   "metadata": {},
   "source": [
    "#### 2. Print your NumPy version."
   ]
  },
  {
   "cell_type": "code",
   "execution_count": 34,
   "metadata": {},
   "outputs": [
    {
     "name": "stdout",
     "output_type": "stream",
     "text": [
      "1.18.1\n"
     ]
    }
   ],
   "source": [
    "print(np.version.version)"
   ]
  },
  {
   "cell_type": "markdown",
   "metadata": {},
   "source": [
    "#### 3. Generate a 2x3x5 3-dimensional array with random values. Assign the array to variable *a*.\n",
    "**Challenge**: there are at least three easy ways that use numpy to generate random arrays. How many ways can you find?"
   ]
  },
  {
   "cell_type": "code",
   "execution_count": 35,
   "metadata": {},
   "outputs": [
    {
     "data": {
      "text/plain": [
       "array([[[0.51802241, 0.48381099, 0.27645037, 0.43517362, 0.91815957],\n",
       "        [0.80976995, 0.48737229, 0.36655243, 0.32179961, 0.38017552],\n",
       "        [0.47186944, 0.36858911, 0.61602947, 0.90857265, 0.38916731]],\n",
       "\n",
       "       [[0.09616104, 0.31054032, 0.12394141, 0.83449492, 0.72765606],\n",
       "        [0.00696041, 0.03911953, 0.81771658, 0.33635788, 0.1993644 ],\n",
       "        [0.95727262, 0.80659723, 0.01115239, 0.89920187, 0.54046927]]])"
      ]
     },
     "execution_count": 35,
     "metadata": {},
     "output_type": "execute_result"
    }
   ],
   "source": [
    "a = np.random.random((2,3,5))\n",
    "a"
   ]
  },
  {
   "cell_type": "code",
   "execution_count": 36,
   "metadata": {},
   "outputs": [
    {
     "data": {
      "text/plain": [
       "array([[[0.70443388, 0.34678951, 0.05660433, 0.42244064, 0.58954376],\n",
       "        [0.34972441, 0.31225857, 0.61443169, 0.40389764, 0.36810972],\n",
       "        [0.96864203, 0.59176056, 0.77086216, 0.8889266 , 0.68724162]],\n",
       "\n",
       "       [[0.8595354 , 0.47027637, 0.92867786, 0.34803044, 0.39850253],\n",
       "        [0.37186437, 0.71234661, 0.49594057, 0.98844601, 0.70015708],\n",
       "        [0.07352906, 0.51431313, 0.7276992 , 0.78832696, 0.84851925]]])"
      ]
     },
     "execution_count": 36,
     "metadata": {},
     "output_type": "execute_result"
    }
   ],
   "source": [
    "a = np.random.random(30).reshape(2,3,5)\n",
    "a"
   ]
  },
  {
   "cell_type": "code",
   "execution_count": 37,
   "metadata": {},
   "outputs": [
    {
     "data": {
      "text/plain": [
       "array([[[0.48110422, 0.13830234, 0.74327803, 0.07652185, 0.35157784],\n",
       "        [0.01520404, 0.00313215, 0.21146302, 0.46493973, 0.62957   ],\n",
       "        [0.51698959, 0.78048579, 0.25633901, 0.52270185, 0.8644329 ]],\n",
       "\n",
       "       [[0.50423018, 0.06603836, 0.67980896, 0.34583194, 0.83737329],\n",
       "        [0.73772296, 0.60942567, 0.68007364, 0.68696728, 0.42797955],\n",
       "        [0.92743668, 0.53863249, 0.22429648, 0.16614287, 0.080461  ]]])"
      ]
     },
     "execution_count": 37,
     "metadata": {},
     "output_type": "execute_result"
    }
   ],
   "source": [
    "a = np.random.rand(2,3,5)\n",
    "a"
   ]
  },
  {
   "cell_type": "code",
   "execution_count": 38,
   "metadata": {},
   "outputs": [
    {
     "data": {
      "text/plain": [
       "array([[[0.48110422, 0.13830234, 0.74327803, 0.07652185, 0.35157784],\n",
       "        [0.01520404, 0.00313215, 0.21146302, 0.46493973, 0.62957   ],\n",
       "        [0.51698959, 0.78048579, 0.25633901, 0.52270185, 0.8644329 ]],\n",
       "\n",
       "       [[0.50423018, 0.06603836, 0.67980896, 0.34583194, 0.83737329],\n",
       "        [0.73772296, 0.60942567, 0.68007364, 0.68696728, 0.42797955],\n",
       "        [0.92743668, 0.53863249, 0.22429648, 0.16614287, 0.080461  ]]])"
      ]
     },
     "execution_count": 38,
     "metadata": {},
     "output_type": "execute_result"
    }
   ],
   "source": [
    "a = np.empty((2,3,5))\n",
    "a"
   ]
  },
  {
   "cell_type": "markdown",
   "metadata": {},
   "source": [
    "#### 4. Print *a*.\n"
   ]
  },
  {
   "cell_type": "code",
   "execution_count": 39,
   "metadata": {},
   "outputs": [
    {
     "data": {
      "text/plain": [
       "array([[[0.48110422, 0.13830234, 0.74327803, 0.07652185, 0.35157784],\n",
       "        [0.01520404, 0.00313215, 0.21146302, 0.46493973, 0.62957   ],\n",
       "        [0.51698959, 0.78048579, 0.25633901, 0.52270185, 0.8644329 ]],\n",
       "\n",
       "       [[0.50423018, 0.06603836, 0.67980896, 0.34583194, 0.83737329],\n",
       "        [0.73772296, 0.60942567, 0.68007364, 0.68696728, 0.42797955],\n",
       "        [0.92743668, 0.53863249, 0.22429648, 0.16614287, 0.080461  ]]])"
      ]
     },
     "execution_count": 39,
     "metadata": {},
     "output_type": "execute_result"
    }
   ],
   "source": [
    "a"
   ]
  },
  {
   "cell_type": "markdown",
   "metadata": {},
   "source": [
    "#### 5. Create a 5x2x3 3-dimensional array with all values equaling 1. Assign the array to variable *b*."
   ]
  },
  {
   "cell_type": "code",
   "execution_count": 40,
   "metadata": {},
   "outputs": [
    {
     "data": {
      "text/plain": [
       "array([[[1., 1., 1.],\n",
       "        [1., 1., 1.]],\n",
       "\n",
       "       [[1., 1., 1.],\n",
       "        [1., 1., 1.]],\n",
       "\n",
       "       [[1., 1., 1.],\n",
       "        [1., 1., 1.]],\n",
       "\n",
       "       [[1., 1., 1.],\n",
       "        [1., 1., 1.]],\n",
       "\n",
       "       [[1., 1., 1.],\n",
       "        [1., 1., 1.]]])"
      ]
     },
     "execution_count": 40,
     "metadata": {},
     "output_type": "execute_result"
    }
   ],
   "source": [
    "b = np.ones((5,2,3))\n",
    "b"
   ]
  },
  {
   "cell_type": "markdown",
   "metadata": {},
   "source": [
    "#### 6. Print *b*.\n"
   ]
  },
  {
   "cell_type": "code",
   "execution_count": 41,
   "metadata": {},
   "outputs": [
    {
     "data": {
      "text/plain": [
       "array([[[1., 1., 1.],\n",
       "        [1., 1., 1.]],\n",
       "\n",
       "       [[1., 1., 1.],\n",
       "        [1., 1., 1.]],\n",
       "\n",
       "       [[1., 1., 1.],\n",
       "        [1., 1., 1.]],\n",
       "\n",
       "       [[1., 1., 1.],\n",
       "        [1., 1., 1.]],\n",
       "\n",
       "       [[1., 1., 1.],\n",
       "        [1., 1., 1.]]])"
      ]
     },
     "execution_count": 41,
     "metadata": {},
     "output_type": "execute_result"
    }
   ],
   "source": [
    "b"
   ]
  },
  {
   "cell_type": "markdown",
   "metadata": {},
   "source": [
    "#### 7. Do *a* and *b* have the same size? How do you prove that in Python code?"
   ]
  },
  {
   "cell_type": "code",
   "execution_count": 42,
   "metadata": {},
   "outputs": [
    {
     "data": {
      "text/plain": [
       "'\\n#wrong i think... the answer below its correct(i think)\\nprint(a.size)\\nprint(b.size)\\nsize_comp = a.size - b.size\\nprint(size_comp)\\n\\n\\n\\nnp.size(a)==np.size(b)\\n'"
      ]
     },
     "execution_count": 42,
     "metadata": {},
     "output_type": "execute_result"
    }
   ],
   "source": [
    "\"\"\"\n",
    "#wrong i think... the answer below its correct(i think)\n",
    "print(a.size)\n",
    "print(b.size)\n",
    "size_comp = a.size - b.size\n",
    "print(size_comp)\n",
    "\n",
    "\n",
    "\n",
    "np.size(a)==np.size(b)\n",
    "\"\"\""
   ]
  },
  {
   "cell_type": "code",
   "execution_count": 43,
   "metadata": {},
   "outputs": [
    {
     "ename": "ValueError",
     "evalue": "operands could not be broadcast together with shapes (2,3,5) (5,2,3) ",
     "output_type": "error",
     "traceback": [
      "\u001b[1;31m---------------------------------------------------------------------------\u001b[0m",
      "\u001b[1;31mValueError\u001b[0m                                Traceback (most recent call last)",
      "\u001b[1;32m<ipython-input-43-16827a07eb98>\u001b[0m in \u001b[0;36m<module>\u001b[1;34m\u001b[0m\n\u001b[1;32m----> 1\u001b[1;33m \u001b[0mnp\u001b[0m\u001b[1;33m.\u001b[0m\u001b[0msubtract\u001b[0m\u001b[1;33m(\u001b[0m\u001b[0ma\u001b[0m\u001b[1;33m,\u001b[0m\u001b[0mb\u001b[0m\u001b[1;33m)\u001b[0m\u001b[1;33m\u001b[0m\u001b[1;33m\u001b[0m\u001b[0m\n\u001b[0m\u001b[0;32m      2\u001b[0m \u001b[0mnp\u001b[0m\u001b[1;33m.\u001b[0m\u001b[0mmultiply\u001b[0m\u001b[1;33m(\u001b[0m\u001b[0ma\u001b[0m\u001b[1;33m,\u001b[0m\u001b[0mb\u001b[0m\u001b[1;33m)\u001b[0m\u001b[1;33m\u001b[0m\u001b[1;33m\u001b[0m\u001b[0m\n\u001b[0;32m      3\u001b[0m \u001b[1;33m\u001b[0m\u001b[0m\n\u001b[0;32m      4\u001b[0m \u001b[1;31m#i dont think its possible do this king of math with shapes per say, they have different shapes and sizes\u001b[0m\u001b[1;33m\u001b[0m\u001b[1;33m\u001b[0m\u001b[1;33m\u001b[0m\u001b[0m\n",
      "\u001b[1;31mValueError\u001b[0m: operands could not be broadcast together with shapes (2,3,5) (5,2,3) "
     ]
    }
   ],
   "source": [
    "np.subtract(a,b)\n",
    "np.multiply(a,b)\n",
    "\n",
    "#i dont think its possible do this king of math with shapes per say, they have different shapes and sizes"
   ]
  },
  {
   "cell_type": "markdown",
   "metadata": {},
   "source": [
    "#### 8. Are you able to add *a* and *b*? Why or why not?\n"
   ]
  },
  {
   "cell_type": "code",
   "execution_count": 44,
   "metadata": {},
   "outputs": [
    {
     "ename": "ValueError",
     "evalue": "operands could not be broadcast together with shapes (2,3,5) (5,2,3) ",
     "output_type": "error",
     "traceback": [
      "\u001b[1;31m---------------------------------------------------------------------------\u001b[0m",
      "\u001b[1;31mValueError\u001b[0m                                Traceback (most recent call last)",
      "\u001b[1;32m<ipython-input-44-844e2f7ca8a9>\u001b[0m in \u001b[0;36m<module>\u001b[1;34m\u001b[0m\n\u001b[1;32m----> 1\u001b[1;33m \u001b[0mnp\u001b[0m\u001b[1;33m.\u001b[0m\u001b[0madd\u001b[0m\u001b[1;33m(\u001b[0m\u001b[0ma\u001b[0m\u001b[1;33m,\u001b[0m\u001b[0mb\u001b[0m\u001b[1;33m)\u001b[0m\u001b[1;33m\u001b[0m\u001b[1;33m\u001b[0m\u001b[0m\n\u001b[0m\u001b[0;32m      2\u001b[0m \u001b[1;33m\u001b[0m\u001b[0m\n\u001b[0;32m      3\u001b[0m \u001b[1;31m#add_both = np.concatenate((a,b))\u001b[0m\u001b[1;33m\u001b[0m\u001b[1;33m\u001b[0m\u001b[1;33m\u001b[0m\u001b[0m\n\u001b[0;32m      4\u001b[0m \u001b[1;31m#add_both\u001b[0m\u001b[1;33m\u001b[0m\u001b[1;33m\u001b[0m\u001b[1;33m\u001b[0m\u001b[0m\n\u001b[0;32m      5\u001b[0m \u001b[1;33m\u001b[0m\u001b[0m\n",
      "\u001b[1;31mValueError\u001b[0m: operands could not be broadcast together with shapes (2,3,5) (5,2,3) "
     ]
    }
   ],
   "source": [
    "np.add(a,b)\n",
    "\n",
    "#add_both = np.concatenate((a,b))\n",
    "#add_both\n",
    "\n",
    "#np.stack((a,b),axis=0)\n",
    "\n",
    "\n",
    "#no, because they have to have the same dimensions, the same shape"
   ]
  },
  {
   "cell_type": "markdown",
   "metadata": {},
   "source": [
    "#### 9. Transpose *b* so that it has the same structure of *a* (i.e. become a 2x3x5 array). Assign the transposed array to variable *c*."
   ]
  },
  {
   "cell_type": "code",
   "execution_count": 45,
   "metadata": {},
   "outputs": [
    {
     "name": "stdout",
     "output_type": "stream",
     "text": [
      "30 (2, 3, 5)\n",
      "30 (5, 2, 3)\n",
      "\n",
      "\n",
      "[[[1. 1. 1. 1. 1.]\n",
      "  [1. 1. 1. 1. 1.]\n",
      "  [1. 1. 1. 1. 1.]]\n",
      "\n",
      " [[1. 1. 1. 1. 1.]\n",
      "  [1. 1. 1. 1. 1.]\n",
      "  [1. 1. 1. 1. 1.]]]\n",
      "(2, 3, 5)\n",
      "(2, 3, 5)\n",
      "\n",
      "\n"
     ]
    },
    {
     "data": {
      "text/plain": [
       "'\\nc=np.transpose(b)\\nprint(c)\\n'"
      ]
     },
     "execution_count": 45,
     "metadata": {},
     "output_type": "execute_result"
    }
   ],
   "source": [
    "print(np.size(a), np.shape(a))\n",
    "print(np.size(b), np.shape(b))\n",
    "print(\"\\n\")\n",
    "\n",
    "c = np.reshape(b,(2,3,5))\n",
    "print(c)\n",
    "print(np.shape(a))\n",
    "print(np.shape(c))\n",
    "print(\"\\n\")\n",
    "\n",
    "\n",
    "\"\"\"\n",
    "c=np.transpose(b)\n",
    "print(c)\n",
    "\"\"\""
   ]
  },
  {
   "cell_type": "markdown",
   "metadata": {},
   "source": [
    "#### 10. Try to add *a* and *c*. Now it should work. Assign the sum to variable *d*. But why does it work now?"
   ]
  },
  {
   "cell_type": "code",
   "execution_count": 46,
   "metadata": {},
   "outputs": [
    {
     "name": "stdout",
     "output_type": "stream",
     "text": [
      "[[[1.48110422 1.13830234 1.74327803 1.07652185 1.35157784]\n",
      "  [1.01520404 1.00313215 1.21146302 1.46493973 1.62957   ]\n",
      "  [1.51698959 1.78048579 1.25633901 1.52270185 1.8644329 ]]\n",
      "\n",
      " [[1.50423018 1.06603836 1.67980896 1.34583194 1.83737329]\n",
      "  [1.73772296 1.60942567 1.68007364 1.68696728 1.42797955]\n",
      "  [1.92743668 1.53863249 1.22429648 1.16614287 1.080461  ]]]\n"
     ]
    }
   ],
   "source": [
    "d = np.add(a,c)\n",
    "print(d)\n",
    "\n",
    "# because NOW they have the same goddamm shape(dimensions) lol"
   ]
  },
  {
   "cell_type": "markdown",
   "metadata": {},
   "source": [
    "#### 11. Print *a* and *d*. Notice the difference and relation of the two array in terms of the values? Explain."
   ]
  },
  {
   "cell_type": "code",
   "execution_count": 47,
   "metadata": {},
   "outputs": [
    {
     "name": "stdout",
     "output_type": "stream",
     "text": [
      "[[[0.48110422 0.13830234 0.74327803 0.07652185 0.35157784]\n",
      "  [0.01520404 0.00313215 0.21146302 0.46493973 0.62957   ]\n",
      "  [0.51698959 0.78048579 0.25633901 0.52270185 0.8644329 ]]\n",
      "\n",
      " [[0.50423018 0.06603836 0.67980896 0.34583194 0.83737329]\n",
      "  [0.73772296 0.60942567 0.68007364 0.68696728 0.42797955]\n",
      "  [0.92743668 0.53863249 0.22429648 0.16614287 0.080461  ]]]\n",
      "\n",
      "\n",
      "[[[1.48110422 1.13830234 1.74327803 1.07652185 1.35157784]\n",
      "  [1.01520404 1.00313215 1.21146302 1.46493973 1.62957   ]\n",
      "  [1.51698959 1.78048579 1.25633901 1.52270185 1.8644329 ]]\n",
      "\n",
      " [[1.50423018 1.06603836 1.67980896 1.34583194 1.83737329]\n",
      "  [1.73772296 1.60942567 1.68007364 1.68696728 1.42797955]\n",
      "  [1.92743668 1.53863249 1.22429648 1.16614287 1.080461  ]]]\n",
      "\n",
      "\n",
      "<class 'numpy.ndarray'>\n",
      "(2, 3, 5)\n",
      "0.48110422346696435\n",
      "<class 'numpy.float64'>\n",
      "\n",
      "\n",
      "<class 'numpy.ndarray'>\n",
      "(2, 3, 5)\n",
      "1.4811042234669642\n",
      "<class 'numpy.float64'>\n"
     ]
    }
   ],
   "source": [
    "print(a)\n",
    "print(\"\\n\")\n",
    "print(d)\n",
    "print(\"\\n\")\n",
    "\n",
    "\n",
    "print(type(a))\n",
    "print(np.shape(a))\n",
    "print(a[0,0,0])\n",
    "print(type(a[0,0,0]))\n",
    "print(\"\\n\")\n",
    "print(type(d))\n",
    "print(np.shape(d))\n",
    "print(d[0,0,0])\n",
    "print(type(d[0,0,0]))\n",
    "\n",
    "\n",
    "# the array C as a np.ones(3-dimensional array), and we add that(sum both basically) to array A(np.random.random 3-dim array)\n",
    "# that means that all values on array A get summed by 1"
   ]
  },
  {
   "cell_type": "markdown",
   "metadata": {},
   "source": [
    "#### 12. Multiply *a* and *c*. Assign the result to *e*."
   ]
  },
  {
   "cell_type": "code",
   "execution_count": 48,
   "metadata": {},
   "outputs": [
    {
     "data": {
      "text/plain": [
       "array([[[0.48110422, 0.13830234, 0.74327803, 0.07652185, 0.35157784],\n",
       "        [0.01520404, 0.00313215, 0.21146302, 0.46493973, 0.62957   ],\n",
       "        [0.51698959, 0.78048579, 0.25633901, 0.52270185, 0.8644329 ]],\n",
       "\n",
       "       [[0.50423018, 0.06603836, 0.67980896, 0.34583194, 0.83737329],\n",
       "        [0.73772296, 0.60942567, 0.68007364, 0.68696728, 0.42797955],\n",
       "        [0.92743668, 0.53863249, 0.22429648, 0.16614287, 0.080461  ]]])"
      ]
     },
     "execution_count": 48,
     "metadata": {},
     "output_type": "execute_result"
    }
   ],
   "source": [
    "e = np.multiply(a,c)\n",
    "e"
   ]
  },
  {
   "cell_type": "markdown",
   "metadata": {},
   "source": [
    "#### 13. Does *e* equal to *a*? Why or why not?\n"
   ]
  },
  {
   "cell_type": "code",
   "execution_count": 49,
   "metadata": {},
   "outputs": [
    {
     "name": "stdout",
     "output_type": "stream",
     "text": [
      "(2, 3, 5)\n",
      "[[[0.48110422 0.13830234 0.74327803 0.07652185 0.35157784]\n",
      "  [0.01520404 0.00313215 0.21146302 0.46493973 0.62957   ]\n",
      "  [0.51698959 0.78048579 0.25633901 0.52270185 0.8644329 ]]\n",
      "\n",
      " [[0.50423018 0.06603836 0.67980896 0.34583194 0.83737329]\n",
      "  [0.73772296 0.60942567 0.68007364 0.68696728 0.42797955]\n",
      "  [0.92743668 0.53863249 0.22429648 0.16614287 0.080461  ]]]\n",
      "\n",
      "\n",
      "(2, 3, 5)\n",
      "[[[0.48110422 0.13830234 0.74327803 0.07652185 0.35157784]\n",
      "  [0.01520404 0.00313215 0.21146302 0.46493973 0.62957   ]\n",
      "  [0.51698959 0.78048579 0.25633901 0.52270185 0.8644329 ]]\n",
      "\n",
      " [[0.50423018 0.06603836 0.67980896 0.34583194 0.83737329]\n",
      "  [0.73772296 0.60942567 0.68007364 0.68696728 0.42797955]\n",
      "  [0.92743668 0.53863249 0.22429648 0.16614287 0.080461  ]]]\n"
     ]
    }
   ],
   "source": [
    "e == a\n",
    "\n",
    "print(np.shape(a))\n",
    "print(a)\n",
    "print(\"\\n\")\n",
    "print(np.shape(e))\n",
    "print(e)\n",
    "\n",
    "\n",
    "#we got E by multiplying with the array A(random) and array C(with 1's)\n",
    "# since 1 is a neutral element of multiplication, its like we didnt really multiply anything, so E==A"
   ]
  },
  {
   "cell_type": "markdown",
   "metadata": {},
   "source": [
    "#### 14. Identify the max, min, and mean values in *d*. Assign those values to variables *d_max*, *d_min* and *d_mean*."
   ]
  },
  {
   "cell_type": "code",
   "execution_count": 50,
   "metadata": {},
   "outputs": [
    {
     "name": "stdout",
     "output_type": "stream",
     "text": [
      "1.9274366849764273\n",
      "1.0031321525582193\n",
      "1.452282123518264\n"
     ]
    }
   ],
   "source": [
    "d_max = np.max(d)\n",
    "d_min = np.min(d)\n",
    "d_mean = np.mean(d)\n",
    "\n",
    "print(d_max)\n",
    "print(d_min)\n",
    "print(d_mean)"
   ]
  },
  {
   "cell_type": "markdown",
   "metadata": {},
   "source": [
    "#### 15. Now we want to label the values in *d*. First create an empty array *f* with the same shape (i.e. 2x3x5) as *d* using `np.empty`.\n"
   ]
  },
  {
   "cell_type": "code",
   "execution_count": 51,
   "metadata": {},
   "outputs": [
    {
     "data": {
      "text/plain": [
       "array([[[0.48110422, 0.13830234, 0.74327803, 0.07652185, 0.35157784],\n",
       "        [0.01520404, 0.00313215, 0.21146302, 0.46493973, 0.62957   ],\n",
       "        [0.51698959, 0.78048579, 0.25633901, 0.52270185, 0.8644329 ]],\n",
       "\n",
       "       [[0.50423018, 0.06603836, 0.67980896, 0.34583194, 0.83737329],\n",
       "        [0.73772296, 0.60942567, 0.68007364, 0.68696728, 0.42797955],\n",
       "        [0.92743668, 0.53863249, 0.22429648, 0.16614287, 0.080461  ]]])"
      ]
     },
     "execution_count": 51,
     "metadata": {},
     "output_type": "execute_result"
    }
   ],
   "source": [
    "f = np.empty((2,3,5))\n",
    "f"
   ]
  },
  {
   "cell_type": "markdown",
   "metadata": {},
   "source": [
    "#### 16. Populate the values in *f*. \n",
    "\n",
    "For each value in *d*, if it's larger than *d_min* but smaller than *d_mean*, assign 25 to the corresponding value in *f*. If a value in *d* is larger than *d_mean* but smaller than *d_max*, assign 75 to the corresponding value in *f*. If a value equals to *d_mean*, assign 50 to the corresponding value in *f*. Assign 0 to the corresponding value(s) in *f* for *d_min* in *d*. Assign 100 to the corresponding value(s) in *f* for *d_max* in *d*. In the end, f should have only the following values: 0, 25, 50, 75, and 100.\n",
    "\n",
    "**Note**: you don't have to use Numpy in this question."
   ]
  },
  {
   "cell_type": "code",
   "execution_count": 59,
   "metadata": {},
   "outputs": [
    {
     "name": "stdout",
     "output_type": "stream",
     "text": [
      "1.9274366849764273\n",
      "1.0031321525582193\n",
      "1.452282123518264\n",
      "\n",
      "\n",
      "[[[1.48110422 1.13830234 1.74327803 1.07652185 1.35157784]\n",
      "  [1.01520404 1.00313215 1.21146302 1.46493973 1.62957   ]\n",
      "  [1.51698959 1.78048579 1.25633901 1.52270185 1.8644329 ]]\n",
      "\n",
      " [[1.50423018 1.06603836 1.67980896 1.34583194 1.83737329]\n",
      "  [1.73772296 1.60942567 1.68007364 1.68696728 1.42797955]\n",
      "  [1.92743668 1.53863249 1.22429648 1.16614287 1.080461  ]]]\n",
      "\n",
      "\n",
      "[[[ 75.  25.  75.  25.  25.]\n",
      "  [ 25.   0.  25.  75.  75.]\n",
      "  [ 75.  75.  25.  75.  75.]]\n",
      "\n",
      " [[ 75.  25.  75.  25.  75.]\n",
      "  [ 75.  75.  75.  75.  25.]\n",
      "  [100.  75.  25.  25.  25.]]]\n"
     ]
    },
    {
     "data": {
      "text/plain": [
       "'\\nfor array in d:\\n    for sub_array in array:\\n        for value in sub_array:\\n            if d_min<value<d_mean:\\n                f=np.where(f==value, 25, f)\\n            elif d_mean<value<d_max:\\n                f=np.where(f==value, 75, f)\\n            elif value==d_mean:\\n                f=np.where(f==value, 50, f)\\n            elif value==d_min:\\n                f=np.where(f==value, 0, f)\\n            elif value==d_max:\\n                f=np.where(f==value, 100, f)\\n                \\nprint(d)\\nprint(f)\\n\\n'"
      ]
     },
     "execution_count": 59,
     "metadata": {},
     "output_type": "execute_result"
    }
   ],
   "source": [
    "f = np.copy(d)\n",
    "f[(f > d_min) & (f < d_mean)] = 25\n",
    "f[(f > d_mean) & (f < d_max)] = 75\n",
    "f[(f == d_mean)] = 50\n",
    "f[(f == d_min)] = 0\n",
    "f[(f == d_max)] = 100\n",
    "\n",
    "print(d_max)\n",
    "print(d_min)\n",
    "print(d_mean)\n",
    "print(\"\\n\")\n",
    "\n",
    "print(d)\n",
    "print(\"\\n\")\n",
    "print(f)\n",
    "\n",
    "\n",
    "\n",
    "\n",
    "\n",
    "\"\"\"\n",
    "for array in d:\n",
    "    for sub_array in array:\n",
    "        for value in sub_array:\n",
    "            if d_min<value<d_mean:\n",
    "                f=np.where(f==value, 25, f)\n",
    "            elif d_mean<value<d_max:\n",
    "                f=np.where(f==value, 75, f)\n",
    "            elif value==d_mean:\n",
    "                f=np.where(f==value, 50, f)\n",
    "            elif value==d_min:\n",
    "                f=np.where(f==value, 0, f)\n",
    "            elif value==d_max:\n",
    "                f=np.where(f==value, 100, f)\n",
    "                \n",
    "print(d)\n",
    "print(f)\n",
    "\n",
    "\"\"\""
   ]
  },
  {
   "cell_type": "markdown",
   "metadata": {},
   "source": [
    "#### 17. Print *d* and *f*. Do you have your expected *f*?\n",
    "For instance, if your *d* is:\n",
    "```python\n",
    "[[[1.85836099, 1.67064465, 1.62576044, 1.40243961, 1.88454931],\n",
    "[1.75354326, 1.69403643, 1.36729252, 1.61415071, 1.12104981],\n",
    "[1.72201435, 1.1862918 , 1.87078449, 1.7726778 , 1.88180042]],\n",
    "[[1.44747908, 1.31673383, 1.02000951, 1.52218947, 1.97066381],\n",
    "[1.79129243, 1.74983003, 1.96028037, 1.85166831, 1.65450881],\n",
    "[1.18068344, 1.9587381 , 1.00656599, 1.93402165, 1.73514584]]]\n",
    "```\n",
    "Your *f* should be:\n",
    "```python\n",
    "[[[ 75.,  75.,  75.,  25.,  75.],\n",
    "[ 75.,  75.,  25.,  25.,  25.],\n",
    "[ 75.,  25.,  75.,  75.,  75.]],\n",
    "[[ 25.,  25.,  25.,  25., 100.],\n",
    "[ 75.,  75.,  75.,  75.,  75.],\n",
    "[ 25.,  75.,   0.,  75.,  75.]]]\n",
    "```"
   ]
  },
  {
   "cell_type": "code",
   "execution_count": 58,
   "metadata": {},
   "outputs": [],
   "source": [
    "# in the exercise above"
   ]
  },
  {
   "cell_type": "markdown",
   "metadata": {},
   "source": [
    "#### 18. Bonus question: instead of using numbers (i.e. 0, 25, 50, 75, and 100), use string values  (\"A\", \"B\", \"C\", \"D\", and \"E\") to label the array elements. For the example above, the expected result is:\n",
    "\n",
    "```python\n",
    "[[[ 'D',  'D',  'D',  'B',  'D'],\n",
    "[ 'D',  'D',  'B',  'B',  'B'],\n",
    "[ 'D',  'B',  'D',  'D',  'D']],\n",
    "[[ 'B',  'B',  'B',  'B',  'E'],\n",
    "[ 'D',  'D',  'D',  'D',  'D'],\n",
    "[ 'B',  'D',   'A',  'D', 'D']]]\n",
    "```\n",
    "**Note**: you don't have to use Numpy in this question."
   ]
  },
  {
   "cell_type": "code",
   "execution_count": 64,
   "metadata": {},
   "outputs": [
    {
     "name": "stdout",
     "output_type": "stream",
     "text": [
      "[[['D' 'B' 'D' 'B' 'B']\n",
      "  ['B' 'A' 'B' 'D' 'D']\n",
      "  ['D' 'D' 'B' 'D' 'D']]\n",
      "\n",
      " [['D' 'B' 'D' 'B' 'D']\n",
      "  ['D' 'D' 'D' 'D' 'B']\n",
      "  ['E' 'D' 'B' 'B' 'B']]]\n"
     ]
    },
    {
     "data": {
      "text/plain": [
       "'\\ng=np.array([\"A\", \"B\", \"C\", \"D\", \"E\"])\\nd\\nf=np.empty((2,3,5))\\nfor array in d:\\n    for sub_array in array:\\n        for value in sub_array:\\n            if d_min<value<d_mean:\\n                f=np.where(f==value, \"A\", f)\\n            elif d_mean<value<d_max:\\n                f=np.where(f==value, \"B\", f)\\n            elif value==d_mean:\\n                f=np.where(f==value, \"C\", f)\\n            elif value==d_min:\\n                f=np.where(f==value, \"D\", f)\\n            elif value==d_max:\\n                f=np.where(f==value, \"E\", f)\\n                \\nprint(d)\\nprint(f)\\n'"
      ]
     },
     "execution_count": 64,
     "metadata": {},
     "output_type": "execute_result"
    }
   ],
   "source": [
    "#np.where(condition[, x, y]). Return elements chosen from x or y depending on condition\n",
    "# didnt understand this method very well, i ask for help \n",
    "\n",
    "l = np.where(d == d_min, \"A\", d)\n",
    "l = np.where((d > d_min) & (d < d_mean), \"B\", l)\n",
    "l = np.where(d == d_mean, \"C\", l)\n",
    "l = np.where((d > d_mean) & (d < d_max), \"D\", l)\n",
    "l = np.where(d == d_max, \"E\", l)\n",
    "\n",
    "print(l)\n",
    "\n",
    "\n",
    "\n",
    "\n",
    "\"\"\"\n",
    "g=np.array([\"A\", \"B\", \"C\", \"D\", \"E\"])\n",
    "d\n",
    "f=np.empty((2,3,5))\n",
    "for array in d:\n",
    "    for sub_array in array:\n",
    "        for value in sub_array:\n",
    "            if d_min<value<d_mean:\n",
    "                f=np.where(f==value, \"A\", f)\n",
    "            elif d_mean<value<d_max:\n",
    "                f=np.where(f==value, \"B\", f)\n",
    "            elif value==d_mean:\n",
    "                f=np.where(f==value, \"C\", f)\n",
    "            elif value==d_min:\n",
    "                f=np.where(f==value, \"D\", f)\n",
    "            elif value==d_max:\n",
    "                f=np.where(f==value, \"E\", f)\n",
    "                \n",
    "print(d)\n",
    "print(f)\n",
    "\"\"\""
   ]
  },
  {
   "cell_type": "code",
   "execution_count": null,
   "metadata": {},
   "outputs": [],
   "source": []
  }
 ],
 "metadata": {
  "kernelspec": {
   "display_name": "Python 3",
   "language": "python",
   "name": "python3"
  },
  "language_info": {
   "codemirror_mode": {
    "name": "ipython",
    "version": 3
   },
   "file_extension": ".py",
   "mimetype": "text/x-python",
   "name": "python",
   "nbconvert_exporter": "python",
   "pygments_lexer": "ipython3",
   "version": "3.7.6"
  }
 },
 "nbformat": 4,
 "nbformat_minor": 2
}
